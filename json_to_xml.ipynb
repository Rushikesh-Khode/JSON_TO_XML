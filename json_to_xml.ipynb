{
 "cells": [
  {
   "cell_type": "code",
   "execution_count": 15,
   "id": "9168591d-8188-4d4a-b79a-67e2d21ce826",
   "metadata": {},
   "outputs": [
    {
     "name": "stdout",
     "output_type": "stream",
     "text": [
      "Enter Source Path Of JSON File map.json\n",
      "Enter Destination Path Of Xml File 'If what to save at CWD press enter' \n",
      "Enter Name Of XML file 'without .xml extention' map\n"
     ]
    },
    {
     "name": "stdout",
     "output_type": "stream",
     "text": [
      "Convertion Done. Depth Reached  0\n"
     ]
    }
   ],
   "source": [
    "import json as js\n",
    "import os\n",
    "\n",
    "depth =0\n",
    "def json_to_xml(file): \n",
    "    \n",
    "    if type(file)!=dict:\n",
    "        return file\n",
    "    \n",
    "    else:\n",
    "        \n",
    "        xml=\"\"\n",
    "        \n",
    "        \n",
    "        for i in file.keys():\n",
    "            \n",
    "            tag=i+\">\"\n",
    "            \n",
    "            stag=\"\\n<\"+tag\n",
    "            \n",
    "            etag=\"</\"+tag+\"\\n\"\n",
    "            \n",
    "            data=file[i]\n",
    "            \n",
    "            if(type(data)==list):\n",
    "                \n",
    "                for j in data:\n",
    "                    \n",
    "                    if(type(j)!=dict):\n",
    "\n",
    "                        xml+=stag+str(j)+etag\n",
    "                    else:\n",
    "    \n",
    "                        xml+=stag+str(json_to_xml(j))+etag\n",
    "            else:\n",
    "\n",
    "                xml+=stag+str(json_to_xml(file[i]))+etag\n",
    "                \n",
    "        else:\n",
    "            return xml\n",
    "        \n",
    "json_path=input(\"Enter Source Path Of JSON File\").strip()\n",
    "xml_path=input(\"Enter Destination Path Of Xml File 'If what to save at CWD press enter'\").strip()\n",
    "if(xml_path==\"\"):\n",
    "    xml_path=os.getcwd()\n",
    "    \n",
    "\n",
    "json_file=js.load(open(json_path,\"r\"))\n",
    "\n",
    "xml_str='<?xml version=\"1.0\" encoding=\"UTF-8\" ?>'+json_to_xml(json_file)\n",
    "\n",
    "xml_file_name=input(\"Enter Name Of XML file 'without .xml extention'\")+\".xml\"\n",
    "xml_file=open(xml_path+\"/\"+xml_file_name,\"w\")\n",
    "xml_file.write(xml_str)\n",
    "xml_file.close()\n",
    "\n",
    "print(\"Convertion Completed Successfully\")"
   ]
  }
 ],
 "metadata": {
  "kernelspec": {
   "display_name": "Python 3",
   "language": "python",
   "name": "python3"
  },
  "language_info": {
   "codemirror_mode": {
    "name": "ipython",
    "version": 3
   },
   "file_extension": ".py",
   "mimetype": "text/x-python",
   "name": "python",
   "nbconvert_exporter": "python",
   "pygments_lexer": "ipython3",
   "version": "3.8.3"
  }
 },
 "nbformat": 4,
 "nbformat_minor": 5
}
